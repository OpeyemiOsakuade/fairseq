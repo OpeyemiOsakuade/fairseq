{
 "cells": [
  {
   "cell_type": "code",
   "execution_count": null,
   "metadata": {},
   "outputs": [
    {
     "ename": "",
     "evalue": "",
     "output_type": "error",
     "traceback": [
      "\u001b[1;31mFailed to start the Kernel. \n",
      "\u001b[1;31mUnable to start Kernel 'audioenv (Python 3.9.19)' due to a timeout waiting for the ports to get used. \n",
      "\u001b[1;31mView Jupyter <a href='command:jupyter.viewOutput'>log</a> for further details."
     ]
    }
   ],
   "source": [
    "import os\n",
    "import numpy as np\n",
    "import soundfile as sf\n",
    "from praatio import tgio"
   ]
  },
  {
   "cell_type": "code",
   "execution_count": null,
   "metadata": {},
   "outputs": [
    {
     "ename": "",
     "evalue": "",
     "output_type": "error",
     "traceback": [
      "\u001b[1;31mFailed to start the Kernel. \n",
      "\u001b[1;31mUnable to start Kernel 'audioenv (Python 3.9.19)' due to a timeout waiting for the ports to get used. \n",
      "\u001b[1;31mView Jupyter <a href='command:jupyter.viewOutput'>log</a> for further details."
     ]
    }
   ],
   "source": [
    "# def load_mfa_alignments(textgrid_dir, vowel_set):\n",
    "#     alignments = {}\n",
    "\n",
    "for filename in os.listdir(\"/disk/ostrom/homedirs/s2324992/data_aishell/aligned\"):\n",
    "    if filename.endswith(\".TextGrid\"):\n",
    "        filepath = os.path.join(\"/disk/ostrom/homedirs/s2324992/data_aishell/aligned\", filename)\n",
    "        tg = tgio.openTextgrid(filepath)\n",
    "        phones_tier = tg.tierDict['phones']\n",
    "        # syllable_times = extract_syllables_with_tones(phones_tier, vowel_set)\n",
    "        # alignments[filename.split('.')[0]] = syllable_times\n",
    "print(phones_tier)"
   ]
  },
  {
   "cell_type": "code",
   "execution_count": null,
   "metadata": {},
   "outputs": [],
   "source": []
  }
 ],
 "metadata": {
  "kernelspec": {
   "display_name": "Python 3",
   "language": "python",
   "name": "python3"
  },
  "language_info": {
   "codemirror_mode": {
    "name": "ipython",
    "version": 3
   },
   "file_extension": ".py",
   "mimetype": "text/x-python",
   "name": "python",
   "nbconvert_exporter": "python",
   "pygments_lexer": "ipython3",
   "version": "3.9.19"
  }
 },
 "nbformat": 4,
 "nbformat_minor": 2
}
